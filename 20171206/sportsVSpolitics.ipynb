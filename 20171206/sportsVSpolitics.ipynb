{
 "cells": [
  {
   "cell_type": "markdown",
   "metadata": {},
   "source": [
    "# Sport VS Politics\n",
    "\n",
    "Make sure to have the .txt files in a folder close to this notebook, called `data/`.\n",
    "\n",
    "* https://github.com/Parassharmaa/Tweet-Classifier/tree/master/twc/data\n",
    "\n",
    "* http://www.markhneedham.com/blog/2015/02/15/pythonscikit-learn-calculating-tfidf-on-how-i-met-your-mother-transcripts/\n",
    "\n",
    "* http://scikit-learn.org/stable/modules/generated/sklearn.model_selection.train_test_split.html\n",
    "\n",
    "* http://scikit-learn.org/stable/modules/generated/sklearn.ensemble.RandomForestClassifier.html"
   ]
  },
  {
   "cell_type": "code",
   "execution_count": 6,
   "metadata": {},
   "outputs": [],
   "source": [
    "import os\n",
    "\n",
    "data_folder = \"data\"\n",
    "\n",
    "labels_to_int = {\"politics.txt\": 0, \"sports.txt\": 1}\n",
    "int_to_labels = {v: k for k, v in labels_to_int.items()}"
   ]
  },
  {
   "cell_type": "markdown",
   "metadata": {},
   "source": [
    "`corpus` is a list that contains a string for each file."
   ]
  },
  {
   "cell_type": "code",
   "execution_count": 7,
   "metadata": {},
   "outputs": [
    {
     "name": "stdout",
     "output_type": "stream",
     "text": [
      "Number of files loaded as the corpus: 692\n",
      "Number of labels loaded: 692\n",
      "The following are the first and last ten tweets in the corpus, along with their label:\n",
      "\n",
      "1 politics.txt -- megathread: republican health care plan passes house vote\n",
      "2 politics.txt -- president trump praised australia's universal health care right after the house repealed obamacare\n",
      "3 politics.txt -- gop congressman: i didn't fully read health care bill\n",
      "4 politics.txt -- trump's fitness to serve is 'officially part of the discussion in congress'\n",
      "5 politics.txt -- in rare unity, hospitals, doctors and insurers criticize health bill\n",
      "6 politics.txt -- senate gop rejects house obamacare bill\n",
      "7 politics.txt -- federal judge orders georgia to re-open voter registration ahead of 6th district runoff\n",
      "8 politics.txt -- aclu says demanding us citizens unlock phones at the border is unconstitutional\n",
      "9 politics.txt -- bernie sanders couldn’t stop laughing when trump didn’t realize he was praising australia’s universal healthcare\n",
      "10 politics.txt -- sanders to trump: 'we'll quote you' on support for universal healthcare\n",
      "\n",
      "683 sports.txt -- satire! poor performance of rcb!\n",
      "684 sports.txt -- well written piece about an interview with alan mullally\n",
      "685 sports.txt -- west ham united 1-0 tottenham hotspur\n",
      "686 sports.txt -- how does your team do when having a man sent off?\n",
      "687 sports.txt -- gudas punch on giroux, without looking on him (ice hockey wc, czech republic - canada)\n",
      "688 sports.txt -- england odi bowling form\n",
      "689 sports.txt -- has anyone here managed to purchase tickets for the ashes? i don't see how to progress past this screen.\n",
      "690 sports.txt -- 6 super catches by jonty rhodes\n",
      "691 sports.txt -- has anyone here managed to purchase tickets for the ashes? i don't see how to progress past this screen.\n",
      "692 sports.txt -- there is a front-page post on r/soccer about rashford practicing freekicks after training\n",
      "\n"
     ]
    }
   ],
   "source": [
    "corpus, labels = [], []\n",
    "for input_text_file in os.listdir(data_folder):\n",
    "    \n",
    "    # We chose only to train a TF-IDF on top of politics and sports\n",
    "    # tweets, so far.\n",
    "    if input_text_file not in (\"politics.txt\", \"sports.txt\"):\n",
    "        continue\n",
    "\n",
    "    with open(os.path.join(data_folder, input_text_file)) as file_desc:\n",
    "        for line in file_desc:\n",
    "            # Add the tweet to the corpus \"vector\", and the relative label\n",
    "            # (a numeric value) associated to the tweet, to a y \"vector\".\n",
    "            corpus.append(line.strip().lower())\n",
    "            labels.append(labels_to_int[input_text_file])\n",
    "\n",
    "print(\"Number of files loaded as the corpus:\", len(corpus))\n",
    "print(\"Number of labels loaded:\", len(labels))\n",
    "print(\"The following are the first and last ten tweets in the corpus, along with their label:\\n\")\n",
    "\n",
    "for tw_id, tw in enumerate(corpus[:10]):\n",
    "    line_id = tw_id\n",
    "    print(line_id+1, int_to_labels[labels[line_id]], \"--\", tw)\n",
    "print()\n",
    "\n",
    "for tw_id, tw in enumerate(corpus[-10:]):\n",
    "    line_id = tw_id+len(corpus)-10\n",
    "    print(line_id+1, int_to_labels[labels[line_id]], \"--\", tw)\n",
    "print()"
   ]
  },
  {
   "cell_type": "markdown",
   "metadata": {},
   "source": [
    "Feed the TF-IDF converter to produce a sparse matrix."
   ]
  },
  {
   "cell_type": "code",
   "execution_count": 8,
   "metadata": {},
   "outputs": [],
   "source": [
    "from sklearn.feature_extraction.text import TfidfVectorizer\n",
    "tf = TfidfVectorizer(analyzer='word', ngram_range=(1,3), min_df=0, stop_words='english')\n",
    "\n",
    "tfidf_matrix =  tf.fit_transform(corpus)\n",
    "feature_names = tf.get_feature_names()"
   ]
  },
  {
   "cell_type": "markdown",
   "metadata": {},
   "source": [
    "Reserve 5% of the tweets as a \"test\" sample, and use the remaining to train the random forest on."
   ]
  },
  {
   "cell_type": "code",
   "execution_count": 9,
   "metadata": {},
   "outputs": [],
   "source": [
    "# We use the train_test_split function to shuffle and split the TF-IDF matrix and\n",
    "# the labels vector, keeping the same \"shuffling order\" between the two arrays.\n",
    "from sklearn.model_selection import train_test_split\n",
    "\n",
    "X_train, X_test, y_train, y_test = train_test_split(tfidf_matrix, labels, test_size=0.05)"
   ]
  },
  {
   "cell_type": "markdown",
   "metadata": {},
   "source": [
    "Now perform the actual training of the random forest on top of the TF-TDX matrix."
   ]
  },
  {
   "cell_type": "code",
   "execution_count": 10,
   "metadata": {},
   "outputs": [
    {
     "data": {
      "text/plain": [
       "RandomForestClassifier(bootstrap=True, class_weight=None, criterion='gini',\n",
       "            max_depth=2, max_features='auto', max_leaf_nodes=None,\n",
       "            min_impurity_decrease=0.0, min_impurity_split=None,\n",
       "            min_samples_leaf=1, min_samples_split=2,\n",
       "            min_weight_fraction_leaf=0.0, n_estimators=10, n_jobs=1,\n",
       "            oob_score=False, random_state=None, verbose=0,\n",
       "            warm_start=False)"
      ]
     },
     "execution_count": 10,
     "metadata": {},
     "output_type": "execute_result"
    }
   ],
   "source": [
    "from sklearn.ensemble import RandomForestClassifier\n",
    "clf = RandomForestClassifier(max_depth=2)\n",
    "\n",
    "clf.fit(X_train, y_train)"
   ]
  },
  {
   "cell_type": "markdown",
   "metadata": {},
   "source": [
    "Test the trained random forest classifier on the left-out test data:"
   ]
  },
  {
   "cell_type": "code",
   "execution_count": 11,
   "metadata": {},
   "outputs": [
    {
     "data": {
      "text/plain": [
       "0.7142857142857143"
      ]
     },
     "execution_count": 11,
     "metadata": {},
     "output_type": "execute_result"
    }
   ],
   "source": [
    "clf.score(X_test, y_test)"
   ]
  },
  {
   "cell_type": "markdown",
   "metadata": {},
   "source": [
    "# Latent Dirichlet Allocation\n",
    "\n",
    "Apply LDA\n",
    "\n",
    "* http://scikit-learn.org/stable/modules/generated/sklearn.decomposition.LatentDirichletAllocation.html\n",
    "* http://scikit-learn.org/stable/auto_examples/applications/plot_topics_extraction_with_nmf_lda.html"
   ]
  },
  {
   "cell_type": "code",
   "execution_count": 16,
   "metadata": {},
   "outputs": [],
   "source": [
    "def print_top_words(model, feature_names, n_top_words):\n",
    "    for topic_idx, topic in enumerate(model.components_):\n",
    "        message = \"Topic #%d: \" % topic_idx\n",
    "        message += \" \".join([feature_names[i]\n",
    "                             for i in topic.argsort()[:-n_top_words - 1:-1]])\n",
    "        print(message)\n",
    "    print()"
   ]
  },
  {
   "cell_type": "code",
   "execution_count": 19,
   "metadata": {},
   "outputs": [
    {
     "name": "stdout",
     "output_type": "stream",
     "text": [
      "\n",
      "Topics in LDA model:\n",
      "Topic #0: in ipl of the so has close 2017 india and former trump kohli up poor been 2016 performance rcb simple\n",
      "Topic #1: semtex delivers daley uppercut paul hits players dispute favourites x3 boca juniors subtitled netflix documentary overseas during between driving sox\n",
      "Topic #2: the to of is for in with trump how all has against xi one and world don this obamacare it\n",
      "Topic #3: to trump on why the fox for watch and city hockey him news donald srh council impeachment without czech looking\n",
      "Topic #4: trump book ivanka has over executive indefinitely steve warriors remains continue kerr tests order religious liberty his house state feeling\n",
      "Topic #5: in trump with will united health do their care to amp conversation win we system state than just universal payer\n",
      "Topic #6: vs match at thread pant west rishabh highlights indies pakistan football dd tottenham ham north ireland innings fastest sledge 2nd\n",
      "Topic #7: to for champions league in as with care are will trump new be and trophy the health premier india after\n",
      "Topic #8: the in of to is cricket and from after he trump for bill what health on an house this have\n",
      "Topic #9: against dispute indian trump canada files for this ct shambolic benfica chelsea brazil summer reasons jonas costa squad must why\n",
      "\n"
     ]
    }
   ],
   "source": [
    "from sklearn.feature_extraction.text import CountVectorizer\n",
    "\n",
    "# Ignore warning from LDA change of algorithm happening in the next scikit release (0.20)\n",
    "import warnings\n",
    "warnings.filterwarnings('ignore')\n",
    "from sklearn.decomposition import LatentDirichletAllocation as LDA\n",
    "\n",
    "n_top_words = 20\n",
    "\n",
    "tf_vectorizer = CountVectorizer()\n",
    "tf = tf_vectorizer.fit_transform(corpus)\n",
    "\n",
    "lda = LDA()\n",
    "lda.fit(tf)\n",
    "\n",
    "print(\"\\nTopics in LDA model:\")\n",
    "tf_feature_names = tf_vectorizer.get_feature_names()\n",
    "print_top_words(lda, tf_feature_names, n_top_words)"
   ]
  }
 ],
 "metadata": {
  "kernelspec": {
   "display_name": "Python 3",
   "language": "python",
   "name": "python3"
  },
  "language_info": {
   "codemirror_mode": {
    "name": "ipython",
    "version": 3
   },
   "file_extension": ".py",
   "mimetype": "text/x-python",
   "name": "python",
   "nbconvert_exporter": "python",
   "pygments_lexer": "ipython3",
   "version": "3.6.2"
  }
 },
 "nbformat": 4,
 "nbformat_minor": 2
}
