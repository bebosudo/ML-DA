{
 "cells": [
  {
   "cell_type": "markdown",
   "metadata": {},
   "source": [
    "# Correlation\n",
    "\n",
    "Correlation is the statistical relationship between two variables: is expressed as $ cor=E \\, [(x - \\overline{x}) \\, (y - \\overline{y})] $\n",
    "\n",
    "The following example is taken from:\n",
    "http://scikit-learn.org/stable/auto_examples/linear_model/plot_ols.html"
   ]
  },
  {
   "cell_type": "code",
   "execution_count": 61,
   "metadata": {},
   "outputs": [],
   "source": [
    "import pandas as pd\n",
    "import matplotlib.pyplot as plt\n",
    "import numpy as np\n",
    "import statsmodels.formula.api as smf\n",
    "\n",
    "# this allows plots to appear directly in the notebook\n",
    "%matplotlib inline"
   ]
  },
  {
   "cell_type": "code",
   "execution_count": 4,
   "metadata": {},
   "outputs": [
    {
     "name": "stdout",
     "output_type": "stream",
     "text": [
      "Coefficients: \n",
      " [ 938.23786125]\n",
      "Mean squared error: 2548.07\n",
      "Variance score: 0.47\n"
     ]
    },
    {
     "data": {
      "image/png": "[encoded data removed]",
      "text/plain": [
       "<matplotlib.figure.Figure at 0x7fbd41a5b358>"
      ]
     },
     "metadata": {},
     "output_type": "display_data"
    }
   ],
   "source": [
    "from sklearn import datasets, linear_model\n",
    "from sklearn.metrics import mean_squared_error, r2_score\n",
    "\n",
    "# Load the diabetes dataset\n",
    "diabetes = datasets.load_diabetes()\n",
    "\n",
    "# Use only one feature\n",
    "diabetes_X = diabetes.data[:, np.newaxis, 2]\n",
    "\n",
    "# Split the data into training/testing sets\n",
    "diabetes_X_train = diabetes_X[:-20]\n",
    "diabetes_X_test = diabetes_X[-20:]\n",
    "\n",
    "# Split the targets into training/testing sets\n",
    "diabetes_y_train = diabetes.target[:-20]\n",
    "diabetes_y_test = diabetes.target[-20:]\n",
    "\n",
    "# Create linear regression object\n",
    "regr = linear_model.LinearRegression()\n",
    "\n",
    "# Train the model using the training sets\n",
    "regr.fit(diabetes_X_train, diabetes_y_train)\n",
    "\n",
    "# Make predictions using the testing set\n",
    "diabetes_y_pred = regr.predict(diabetes_X_test)\n",
    "\n",
    "# The coefficients\n",
    "print('Coefficients: \\n', regr.coef_)\n",
    "# The mean squared error\n",
    "print(\"Mean squared error: %.2f\"\n",
    "      % mean_squared_error(diabetes_y_test, diabetes_y_pred))\n",
    "# Explained variance score: 1 is perfect prediction\n",
    "print('Variance score: %.2f' % r2_score(diabetes_y_test, diabetes_y_pred))\n",
    "\n",
    "# Plot outputs\n",
    "plt.scatter(diabetes_X_test, diabetes_y_test,  color='black')\n",
    "plt.plot(diabetes_X_test, diabetes_y_pred, color='blue', linewidth=3)\n",
    "\n",
    "plt.xticks(())\n",
    "plt.yticks(())\n",
    "\n",
    "plt.show()"
   ]
  },
  {
   "cell_type": "markdown",
   "metadata": {},
   "source": [
    "Another linear regression source in python:\n",
    "http://www.dataschool.io/linear-regression-in-python/"
   ]
  },
  {
   "cell_type": "markdown",
   "metadata": {},
   "source": [
    "----\n",
    "Data is diamond prices (Signapore dollars) and diamond weight in carats (standard measure of diamond mass, 0.2 g).\n",
    "\n",
    "~~To get the data use library(UsingR); data(diamond)~~\n",
    "\n",
    "Plotting the fitted regression line and data"
   ]
  },
  {
   "cell_type": "code",
   "execution_count": 5,
   "metadata": {},
   "outputs": [
    {
     "data": {
      "text/html": [
       "<div>\n",
       "<style>\n",
       "    .dataframe thead tr:only-child th {\n",
       "        text-align: right;\n",
       "    }\n",
       "\n",
       "    .dataframe thead th {\n",
       "        text-align: left;\n",
       "    }\n",
       "\n",
       "    .dataframe tbody tr th {\n",
       "        vertical-align: top;\n",
       "    }\n",
       "</style>\n",
       "<table border=\"1\" class=\"dataframe\">\n",
       "  <thead>\n",
       "    <tr style=\"text-align: right;\">\n",
       "      <th></th>\n",
       "      <th>carat</th>\n",
       "      <th>price</th>\n",
       "    </tr>\n",
       "  </thead>\n",
       "  <tbody>\n",
       "    <tr>\n",
       "      <th>1</th>\n",
       "      <td>0.17</td>\n",
       "      <td>355</td>\n",
       "    </tr>\n",
       "    <tr>\n",
       "      <th>2</th>\n",
       "      <td>0.16</td>\n",
       "      <td>328</td>\n",
       "    </tr>\n",
       "    <tr>\n",
       "      <th>3</th>\n",
       "      <td>0.17</td>\n",
       "      <td>350</td>\n",
       "    </tr>\n",
       "    <tr>\n",
       "      <th>4</th>\n",
       "      <td>0.18</td>\n",
       "      <td>325</td>\n",
       "    </tr>\n",
       "    <tr>\n",
       "      <th>5</th>\n",
       "      <td>0.25</td>\n",
       "      <td>642</td>\n",
       "    </tr>\n",
       "  </tbody>\n",
       "</table>\n",
       "</div>"
      ],
      "text/plain": [
       "   carat  price\n",
       "1   0.17    355\n",
       "2   0.16    328\n",
       "3   0.17    350\n",
       "4   0.18    325\n",
       "5   0.25    642"
      ]
     },
     "execution_count": 5,
     "metadata": {},
     "output_type": "execute_result"
    }
   ],
   "source": [
    "diamond_df = pd.read_csv(\"https://raw.githubusercontent.com/bebosudo/UsingR_datasets/fd716971d8/datasets/diamond.csv\", index_col=0)\n",
    "diamond_df.head()"
   ]
  },
  {
   "cell_type": "markdown",
   "metadata": {},
   "source": [
    "The deviance can be interpreted as \"how much is a model distant from the reality\"."
   ]
  },
  {
   "cell_type": "code",
   "execution_count": 6,
   "metadata": {},
   "outputs": [
    {
     "data": {
      "text/plain": [
       "Intercept    -259.625907\n",
       "carat        3721.024852\n",
       "dtype: float64"
      ]
     },
     "execution_count": 6,
     "metadata": {},
     "output_type": "execute_result"
    }
   ],
   "source": [
    "lm = smf.ols(formula='price ~ carat', data=diamond_df).fit()\n",
    "lm.params"
   ]
  },
  {
   "cell_type": "markdown",
   "metadata": {},
   "source": [
    "### Linear regression on the Nepali dataset.\n",
    "\n",
    "https://cran.r-project.org/web/packages/faraway/faraway.pdf page 65"
   ]
  },
  {
   "cell_type": "code",
   "execution_count": null,
   "metadata": {},
   "outputs": [],
   "source": [
    "int* nuovo_array[14];\n",
    "int** elemento;"
   ]
  },
  {
   "cell_type": "code",
   "execution_count": 29,
   "metadata": {},
   "outputs": [
    {
     "data": {
      "text/html": [
       "<div>\n",
       "<style>\n",
       "    .dataframe thead tr:only-child th {\n",
       "        text-align: right;\n",
       "    }\n",
       "\n",
       "    .dataframe thead th {\n",
       "        text-align: left;\n",
       "    }\n",
       "\n",
       "    .dataframe tbody tr th {\n",
       "        vertical-align: top;\n",
       "    }\n",
       "</style>\n",
       "<table border=\"1\" class=\"dataframe\">\n",
       "  <thead>\n",
       "    <tr style=\"text-align: right;\">\n",
       "      <th></th>\n",
       "      <th>count</th>\n",
       "      <th>mean</th>\n",
       "      <th>std</th>\n",
       "      <th>min</th>\n",
       "      <th>25%</th>\n",
       "      <th>50%</th>\n",
       "      <th>75%</th>\n",
       "      <th>max</th>\n",
       "    </tr>\n",
       "  </thead>\n",
       "  <tbody>\n",
       "    <tr>\n",
       "      <th>id</th>\n",
       "      <td>1000.0</td>\n",
       "      <td>257998.505000</td>\n",
       "      <td>135188.465996</td>\n",
       "      <td>120011.0</td>\n",
       "      <td>120368.75</td>\n",
       "      <td>360111.5</td>\n",
       "      <td>360591.25</td>\n",
       "      <td>520091.0</td>\n",
       "    </tr>\n",
       "    <tr>\n",
       "      <th>sex</th>\n",
       "      <td>1000.0</td>\n",
       "      <td>1.465000</td>\n",
       "      <td>0.499023</td>\n",
       "      <td>1.0</td>\n",
       "      <td>1.00</td>\n",
       "      <td>1.0</td>\n",
       "      <td>2.00</td>\n",
       "      <td>2.0</td>\n",
       "    </tr>\n",
       "    <tr>\n",
       "      <th>wt</th>\n",
       "      <td>877.0</td>\n",
       "      <td>11.188483</td>\n",
       "      <td>2.942286</td>\n",
       "      <td>3.8</td>\n",
       "      <td>9.00</td>\n",
       "      <td>11.1</td>\n",
       "      <td>13.20</td>\n",
       "      <td>19.2</td>\n",
       "    </tr>\n",
       "    <tr>\n",
       "      <th>ht</th>\n",
       "      <td>877.0</td>\n",
       "      <td>85.170353</td>\n",
       "      <td>11.997792</td>\n",
       "      <td>52.4</td>\n",
       "      <td>76.40</td>\n",
       "      <td>84.8</td>\n",
       "      <td>94.30</td>\n",
       "      <td>110.7</td>\n",
       "    </tr>\n",
       "    <tr>\n",
       "      <th>mage</th>\n",
       "      <td>1000.0</td>\n",
       "      <td>28.470000</td>\n",
       "      <td>6.248051</td>\n",
       "      <td>17.0</td>\n",
       "      <td>24.00</td>\n",
       "      <td>28.0</td>\n",
       "      <td>34.00</td>\n",
       "      <td>52.0</td>\n",
       "    </tr>\n",
       "    <tr>\n",
       "      <th>lit</th>\n",
       "      <td>1000.0</td>\n",
       "      <td>0.045000</td>\n",
       "      <td>0.207408</td>\n",
       "      <td>0.0</td>\n",
       "      <td>0.00</td>\n",
       "      <td>0.0</td>\n",
       "      <td>0.00</td>\n",
       "      <td>1.0</td>\n",
       "    </tr>\n",
       "    <tr>\n",
       "      <th>died</th>\n",
       "      <td>1000.0</td>\n",
       "      <td>0.630000</td>\n",
       "      <td>0.966454</td>\n",
       "      <td>0.0</td>\n",
       "      <td>0.00</td>\n",
       "      <td>0.0</td>\n",
       "      <td>1.00</td>\n",
       "      <td>4.0</td>\n",
       "    </tr>\n",
       "    <tr>\n",
       "      <th>alive</th>\n",
       "      <td>1000.0</td>\n",
       "      <td>4.320000</td>\n",
       "      <td>2.502771</td>\n",
       "      <td>1.0</td>\n",
       "      <td>2.00</td>\n",
       "      <td>4.0</td>\n",
       "      <td>6.00</td>\n",
       "      <td>14.0</td>\n",
       "    </tr>\n",
       "    <tr>\n",
       "      <th>age</th>\n",
       "      <td>1000.0</td>\n",
       "      <td>37.662000</td>\n",
       "      <td>18.631879</td>\n",
       "      <td>0.0</td>\n",
       "      <td>22.00</td>\n",
       "      <td>37.0</td>\n",
       "      <td>53.00</td>\n",
       "      <td>76.0</td>\n",
       "    </tr>\n",
       "  </tbody>\n",
       "</table>\n",
       "</div>"
      ],
      "text/plain": [
       "        count           mean            std       min        25%       50%  \\\n",
       "id     1000.0  257998.505000  135188.465996  120011.0  120368.75  360111.5   \n",
       "sex    1000.0       1.465000       0.499023       1.0       1.00       1.0   \n",
       "wt      877.0      11.188483       2.942286       3.8       9.00      11.1   \n",
       "ht      877.0      85.170353      11.997792      52.4      76.40      84.8   \n",
       "mage   1000.0      28.470000       6.248051      17.0      24.00      28.0   \n",
       "lit    1000.0       0.045000       0.207408       0.0       0.00       0.0   \n",
       "died   1000.0       0.630000       0.966454       0.0       0.00       0.0   \n",
       "alive  1000.0       4.320000       2.502771       1.0       2.00       4.0   \n",
       "age    1000.0      37.662000      18.631879       0.0      22.00      37.0   \n",
       "\n",
       "             75%       max  \n",
       "id     360591.25  520091.0  \n",
       "sex         2.00       2.0  \n",
       "wt         13.20      19.2  \n",
       "ht         94.30     110.7  \n",
       "mage       34.00      52.0  \n",
       "lit         0.00       1.0  \n",
       "died        1.00       4.0  \n",
       "alive       6.00      14.0  \n",
       "age        53.00      76.0  "
      ]
     },
     "execution_count": 29,
     "metadata": {},
     "output_type": "execute_result"
    }
   ],
   "source": [
    "nepali_df = pd.read_csv(\"https://raw.githubusercontent.com/ferdas/faraway_csv/d2ac718a8137/datasets/nepali.csv\", index_col=0)\n",
    "nepali_df.describe().transpose()"
   ]
  },
  {
   "cell_type": "code",
   "execution_count": 53,
   "metadata": {
    "scrolled": true
   },
   "outputs": [
    {
     "name": "stdout",
     "output_type": "stream",
     "text": [
      "Intercept   -8.758147\n",
      "ht           0.234197\n",
      "dtype: float64\n"
     ]
    },
    {
     "data": {
      "text/plain": [
       "1    0.199392\n",
       "2   -0.432939\n",
       "3   -0.437395\n",
       "4   -0.135530\n",
       "6   -0.674908\n",
       "dtype: float64"
      ]
     },
     "execution_count": 53,
     "metadata": {},
     "output_type": "execute_result"
    }
   ],
   "source": [
    "lm = smf.ols(formula='wt ~ ht', data=nepali_df).fit()\n",
    "print(lm.params)\n",
    "lm.resid.head()"
   ]
  },
  {
   "cell_type": "code",
   "execution_count": 49,
   "metadata": {},
   "outputs": [
    {
     "data": {
      "image/png": "[encoded data removed]",
      "text/plain": [
       "<matplotlib.figure.Figure at 0x7fbd3b4909e8>"
      ]
     },
     "metadata": {},
     "output_type": "display_data"
    }
   ],
   "source": [
    "interc, ht_coeff = lm.params\n",
    "ht_min, ht_max = min(nepali_df[\"ht\"]), max(nepali_df[\"ht\"])\n",
    "\n",
    "# Plot the points \n",
    "plt.scatter(nepali_df[\"ht\"], nepali_df[\"wt\"], color=\"lightblue\")\n",
    "\n",
    "# Plot the linear regression line.\n",
    "plt.plot((ht_min, ht_max), (ht_min*ht_coeff + interc, ht_max*ht_coeff + interc))\n",
    "\n",
    "plt.xlabel(\"height (cm)\")\n",
    "plt.ylabel(\"weight (kg)\")\n",
    "\n",
    "plt.show()"
   ]
  },
  {
   "cell_type": "code",
   "execution_count": null,
   "metadata": {},
   "outputs": [],
   "source": []
  }
 ],
 "metadata": {
  "kernelspec": {
   "display_name": "Python 3",
   "language": "python",
   "name": "python3"
  },
  "language_info": {
   "codemirror_mode": {
    "name": "ipython",
    "version": 3
   },
   "file_extension": ".py",
   "mimetype": "text/x-python",
   "name": "python",
   "nbconvert_exporter": "python",
   "pygments_lexer": "ipython3",
   "version": "3.6.2"
  }
 },
 "nbformat": 4,
 "nbformat_minor": 2
}
