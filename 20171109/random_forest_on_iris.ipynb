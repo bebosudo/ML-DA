{
 "cells": [
  {
   "cell_type": "markdown",
   "metadata": {},
   "source": [
    "# Lab: visualize forest errors and boundaries\n",
    "\n",
    "Consider just versicolor and virginica:\n",
    "\n",
    "1.  investigate variable importance with RF\n",
    "\n",
    "  1.1. verify that it is true by removing important variables\n",
    "  \n",
    "2.  investigate influence of B ( ntree )\n",
    "\n",
    "3.  plot fuzzy decision boundaries"
   ]
  },
  {
   "cell_type": "code",
   "execution_count": 14,
   "metadata": {},
   "outputs": [],
   "source": [
    "import pandas as pd\n",
    "from sklearn.ensemble import RandomForestClassifier"
   ]
  },
  {
   "cell_type": "code",
   "execution_count": 54,
   "metadata": {},
   "outputs": [
    {
     "name": "stdout",
     "output_type": "stream",
     "text": [
      "   sepal_length  sepal_width  petal_length  petal_width species\n",
      "1           5.1          3.5           1.4          0.2  setosa\n",
      "2           4.9          3.0           1.4          0.2  setosa\n",
      "3           4.7          3.2           1.3          0.2  setosa\n",
      "4           4.6          3.1           1.5          0.2  setosa\n",
      "5           5.0          3.6           1.4          0.2  setosa\n",
      "\n",
      "    sepal_length  sepal_width  petal_length  petal_width     species\n",
      "51           7.0          3.2           4.7          1.4  versicolor\n",
      "52           6.4          3.2           4.5          1.5  versicolor\n",
      "53           6.9          3.1           4.9          1.5  versicolor\n",
      "54           5.5          2.3           4.0          1.3  versicolor\n",
      "55           6.5          2.8           4.6          1.5  versicolor\n"
     ]
    }
   ],
   "source": [
    "# df = pd.read_csv('https://raw.githubusercontent.com/uiuc-cse/data-fa14/gh-pages/data/iris.csv')\n",
    "df = pd.read_csv(\"https://forge.scilab.org/index.php/p/rdataset/source/file/master/csv/datasets/iris.csv\",\n",
    "                 index_col=0, skiprows=1,\n",
    "                 names=['sepal_length', 'sepal_width', 'petal_length', 'petal_width', 'species'])\n",
    "\n",
    "without_setosa = df[df[\"species\"] != \"setosa\"]\n",
    "\n",
    "print(df.head())\n",
    "print()\n",
    "print(without_setosa.head())"
   ]
  },
  {
   "cell_type": "code",
   "execution_count": 59,
   "metadata": {},
   "outputs": [
    {
     "name": "stdout",
     "output_type": "stream",
     "text": [
      "without setosa, on all features: [ 0.08170459  0.03656095  0.47729776  0.4044367 ]\n"
     ]
    }
   ],
   "source": [
    "clf = RandomForestClassifier(n_estimators=50)\n",
    "clf.fit(without_setosa[['sepal_length', 'sepal_width', 'petal_length', 'petal_width']], without_setosa['species'])\n",
    "\n",
    "print(\"without setosa, on all features:\", clf.feature_importances_)"
   ]
  },
  {
   "cell_type": "markdown",
   "metadata": {},
   "source": [
    "On average, the most important parameters to predict the correct species are those related with the `petal`.\n",
    "\n",
    "If we remove the parameters related to the `petal`:"
   ]
  },
  {
   "cell_type": "code",
   "execution_count": 62,
   "metadata": {},
   "outputs": [
    {
     "name": "stdout",
     "output_type": "stream",
     "text": [
      "without setosa: [ 0.22493553  0.11803754  0.65702693]\n"
     ]
    }
   ],
   "source": [
    "clf.fit(without_setosa[['sepal_length', 'sepal_width', 'petal_width']], without_setosa['species'])\n",
    "print(\"without setosa:\", clf.feature_importances_)"
   ]
  }
 ],
 "metadata": {
  "kernelspec": {
   "display_name": "Python 3",
   "language": "python",
   "name": "python3"
  },
  "language_info": {
   "codemirror_mode": {
    "name": "ipython",
    "version": 3
   },
   "file_extension": ".py",
   "mimetype": "text/x-python",
   "name": "python",
   "nbconvert_exporter": "python",
   "pygments_lexer": "ipython3",
   "version": "3.6.2"
  }
 },
 "nbformat": 4,
 "nbformat_minor": 2
}
